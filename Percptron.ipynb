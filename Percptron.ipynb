{
  "nbformat": 4,
  "nbformat_minor": 0,
  "metadata": {
    "colab": {
      "name": "Percptron.ipynb",
      "provenance": [],
      "authorship_tag": "ABX9TyMv9k+hZT83XeHng0NieJyr",
      "include_colab_link": true
    },
    "kernelspec": {
      "name": "python3",
      "display_name": "Python 3"
    }
  },
  "cells": [
    {
      "cell_type": "markdown",
      "metadata": {
        "id": "view-in-github",
        "colab_type": "text"
      },
      "source": [
        "<a href=\"https://colab.research.google.com/github/otluiz/R_perceptron/blob/main/Percptron.ipynb\" target=\"_parent\"><img src=\"https://colab.research.google.com/assets/colab-badge.svg\" alt=\"Open In Colab\"/></a>"
      ]
    },
    {
      "cell_type": "code",
      "metadata": {
        "id": "eCaTu308ob1i"
      },
      "source": [
        "#!pip install matplotlib-venn\n",
        "#!pip install numpy\n",
        "import numpy as np\n",
        "import math\n"
      ],
      "execution_count": 1,
      "outputs": []
    },
    {
      "cell_type": "code",
      "metadata": {
        "id": "flTX6puu2231"
      },
      "source": [
        "features = np.array([\n",
        "                     [0, 0],\n",
        "                     [0, 1],\n",
        "                     [1, 0],\n",
        "                     [1, 1]\n",
        "])"
      ],
      "execution_count": 2,
      "outputs": []
    },
    {
      "cell_type": "code",
      "metadata": {
        "colab": {
          "base_uri": "https://localhost:8080/"
        },
        "id": "LfHLntcjA38U",
        "outputId": "ffc64243-f333-487e-eed4-c5e453e5f604"
      },
      "source": [
        "instance = features[1]\n",
        "x0 = instance[0]\n",
        "print(x0, instance)\n",
        "n = features.shape[0]"
      ],
      "execution_count": 3,
      "outputs": [
        {
          "output_type": "stream",
          "text": [
            "0 [0 1]\n"
          ],
          "name": "stdout"
        }
      ]
    },
    {
      "cell_type": "code",
      "metadata": {
        "id": "gPc0C-Ur4tl7"
      },
      "source": [
        "#labels = np.array([0, 0, 0, 1]) # AND Gate\n",
        "labels = np.array([0, 1, 1, 1]) # OR Gate\n",
        "#labels = np.array([0, 1, 1, 0]) # XOR Gate"
      ],
      "execution_count": 4,
      "outputs": []
    },
    {
      "cell_type": "code",
      "metadata": {
        "id": "l_db5Ocx5azc"
      },
      "source": [
        "w = [0.5, 0.4]"
      ],
      "execution_count": 5,
      "outputs": []
    },
    {
      "cell_type": "code",
      "metadata": {
        "id": "500FM-rA8GK4"
      },
      "source": [
        "threshold = 0.5"
      ],
      "execution_count": 6,
      "outputs": []
    },
    {
      "cell_type": "code",
      "metadata": {
        "id": "f7l2efsTC-vl"
      },
      "source": [
        "learning_rate = 0.1\n",
        "epoch = 20 # learning time"
      ],
      "execution_count": 7,
      "outputs": []
    },
    {
      "cell_type": "code",
      "metadata": {
        "colab": {
          "base_uri": "https://localhost:8080/"
        },
        "id": "rKNmG2pi5p5y",
        "outputId": "0102364b-7735-479c-bf1b-e7191613c981"
      },
      "source": [
        "for j in range(0, epoch):\n",
        "  print(\"epoch: \", j)\n",
        "  global_delta = 0\n",
        "  for i in range(0, n):\n",
        "    \n",
        "    actual = labels[i]\n",
        "    instance = features[i]\n",
        "\n",
        "    x0 = instance[0]\n",
        "    x1 = instance[1]\n",
        "\n",
        "    sum_unit = x0 * w[0] + x1 * w[1]\n",
        "\n",
        "    if sum_unit > threshold: \n",
        "      fire = 1\n",
        "    else: \n",
        "      fire = 0\n",
        "    \n",
        "    delta = actual - fire\n",
        "    global_delta = global_delta + abs(delta)\n",
        "    \n",
        "    print(\"prediction: \", fire, \"whereas actual was: \", actual, \"sum_unit :\", sum_unit, \"(error: \", delta,\")\" )\n",
        "\n",
        "    w[0] = w[0] + delta * learning_rate\n",
        "    w[1] = w[1] + delta * learning_rate\n",
        "    \n",
        "  print(\"---------------------------------------------------------\")\n",
        "  MSE = math.pow(global_delta, 2) / n\n",
        "  MAE = global_delta/n\n",
        "  print (\"Mean Absolut Error: \", MAE, \"Mean Squared Error: \", MSE)\n",
        "  print(\"---------------------------------------------------------\")\n",
        "  if global_delta == 0:\n",
        "    break"
      ],
      "execution_count": 8,
      "outputs": [
        {
          "output_type": "stream",
          "text": [
            "epoch:  0\n",
            "prediction:  0 whereas actual was:  0 sum_unit : 0.0 (error:  0 )\n",
            "prediction:  0 whereas actual was:  1 sum_unit : 0.4 (error:  1 )\n",
            "prediction:  1 whereas actual was:  1 sum_unit : 0.6 (error:  0 )\n",
            "prediction:  1 whereas actual was:  1 sum_unit : 1.1 (error:  0 )\n",
            "-------------------------------\n",
            "Mean Absolut Error:  0.25 Mean Squared Error:  0.25\n",
            "epoch:  1\n",
            "prediction:  0 whereas actual was:  0 sum_unit : 0.0 (error:  0 )\n",
            "prediction:  0 whereas actual was:  1 sum_unit : 0.5 (error:  1 )\n",
            "prediction:  1 whereas actual was:  1 sum_unit : 0.7 (error:  0 )\n",
            "prediction:  1 whereas actual was:  1 sum_unit : 1.2999999999999998 (error:  0 )\n",
            "-------------------------------\n",
            "Mean Absolut Error:  0.25 Mean Squared Error:  0.25\n",
            "epoch:  2\n",
            "prediction:  0 whereas actual was:  0 sum_unit : 0.0 (error:  0 )\n",
            "prediction:  1 whereas actual was:  1 sum_unit : 0.6 (error:  0 )\n",
            "prediction:  1 whereas actual was:  1 sum_unit : 0.7 (error:  0 )\n",
            "prediction:  1 whereas actual was:  1 sum_unit : 1.2999999999999998 (error:  0 )\n",
            "-------------------------------\n",
            "Mean Absolut Error:  0.0 Mean Squared Error:  0.0\n"
          ],
          "name": "stdout"
        }
      ]
    },
    {
      "cell_type": "markdown",
      "metadata": {
        "id": "aBo2Q9-PHnDh"
      },
      "source": [
        "melhor taxa vetor de pesos para AND Gate [0.5, 0.4] -> 1 época somente"
      ]
    },
    {
      "cell_type": "markdown",
      "metadata": {
        "id": "biwLtX-0JO4y"
      },
      "source": [
        "melhor taxa para vetor de pesos OR Gate: [0.6, 0.6] -> 1 época somente"
      ]
    },
    {
      "cell_type": "code",
      "metadata": {
        "colab": {
          "base_uri": "https://localhost:8080/"
        },
        "id": "PaRuF3_dGAgA",
        "outputId": "d0908b92-a27f-42b9-8545-9429e05e53c0"
      },
      "source": [
        "w"
      ],
      "execution_count": 9,
      "outputs": [
        {
          "output_type": "execute_result",
          "data": {
            "text/plain": [
              "[0.7, 0.6]"
            ]
          },
          "metadata": {
            "tags": []
          },
          "execution_count": 9
        }
      ]
    }
  ]
}